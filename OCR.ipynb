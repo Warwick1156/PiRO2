{
 "cells": [
  {
   "cell_type": "code",
   "execution_count": 43,
   "metadata": {},
   "outputs": [],
   "source": [
    "import sys\n",
    "import os\n",
    "import numpy as np\n",
    "import skimage.io as io"
   ]
  },
  {
   "cell_type": "code",
   "execution_count": 44,
   "metadata": {},
   "outputs": [],
   "source": [
    "class OCR:\n",
    "    \n",
    "    def __init__(self):\n",
    "        pass\n",
    "\n",
    "    def process_image(self, image):\n",
    "        \n",
    "        ind = [\"00000\", \"11111\", \"22222\"]\n",
    "        processed_image = image\n",
    "        \n",
    "        return ind, processed_image"
   ]
  },
  {
   "cell_type": "code",
   "execution_count": 51,
   "metadata": {},
   "outputs": [],
   "source": [
    "class PiRO2:\n",
    "    \n",
    "    def __init__(self):\n",
    "        self.input_path = \"\"\n",
    "        self.n = -1\n",
    "        self.output_path = \"\"\n",
    "        \n",
    "        \n",
    "    def _process(self, k):\n",
    "        img = self._load_image(k)\n",
    "        print(\"Loaded image no. {}\".format(k))\n",
    "        \n",
    "        indices, processed_img = self._process_image(img)\n",
    "        print(\"Processed image no. {}\".format(k))\n",
    "        \n",
    "        self._save_result(k, indices, processed_img)\n",
    "        print(\"Saved result of processing image no. {}\".format(k))\n",
    "    \n",
    "    \n",
    "    def _load_image(self, k):\n",
    "        suffix = '.png'\n",
    "        filepath = os.path.join(self.input_path, str(k) + suffix)\n",
    "        img = io.imread(filepath, as_gray=False)\n",
    "        \n",
    "        return img\n",
    "    \n",
    "    \n",
    "    def _process_image(self, img):\n",
    "        ind, img = OCR().process_image(img)\n",
    "        \n",
    "        return ind, img\n",
    "    \n",
    "            \n",
    "    def _save_result(self, k, indices, processed_img):\n",
    "        img_filepath = os.path.join(self.output_path, str(k) + '.png')\n",
    "        ind_filepath = os.path.join(self.output_path, str(k) + '.txt')\n",
    "\n",
    "        io.imsave(img_filepath, processed_img)\n",
    "\n",
    "        with open(ind_filepath, \"w\") as f:\n",
    "            f.write(\"\\n\".join(indices))\n",
    "\n",
    "            \n",
    "    def run(self):\n",
    "#         if len(sys.argv) != 4:\n",
    "#             print(\"Invalid number of args! Abort.\")\n",
    "#             exit()\n",
    "#         _, self.input_path, self.n, self.output_path = sys.argv\n",
    "\n",
    "        _, self.input_path, self.n, self.output_path = \"\", \"data/\", 30, \"out/\" \n",
    "    \n",
    "        for k in range(self.n):\n",
    "            self._process(k)\n",
    "        \n",
    "        print(\"Done!\")\n",
    "        \n",
    "        "
   ]
  },
  {
   "cell_type": "code",
   "execution_count": 52,
   "metadata": {},
   "outputs": [],
   "source": [
    "main = PiRO2()"
   ]
  },
  {
   "cell_type": "code",
   "execution_count": 53,
   "metadata": {
    "scrolled": false
   },
   "outputs": [
    {
     "name": "stdout",
     "output_type": "stream",
     "text": [
      "Done!\n"
     ]
    }
   ],
   "source": [
    "main.run()"
   ]
  },
  {
   "cell_type": "code",
   "execution_count": null,
   "metadata": {},
   "outputs": [],
   "source": []
  }
 ],
 "metadata": {
  "kernelspec": {
   "display_name": "Python 3",
   "language": "python",
   "name": "python3"
  },
  "language_info": {
   "codemirror_mode": {
    "name": "ipython",
    "version": 3
   },
   "file_extension": ".py",
   "mimetype": "text/x-python",
   "name": "python",
   "nbconvert_exporter": "python",
   "pygments_lexer": "ipython3",
   "version": "3.6.9"
  }
 },
 "nbformat": 4,
 "nbformat_minor": 2
}
