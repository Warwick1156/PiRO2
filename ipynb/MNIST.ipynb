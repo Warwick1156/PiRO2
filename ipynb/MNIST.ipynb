{
 "cells": [
  {
   "cell_type": "code",
   "execution_count": 1,
   "metadata": {},
   "outputs": [],
   "source": [
    "# https://towardsdatascience.com/handwritten-digit-mnist-pytorch-977b5338e627"
   ]
  },
  {
   "cell_type": "code",
   "execution_count": 2,
   "metadata": {},
   "outputs": [],
   "source": [
    "import numpy as np\n",
    "import torch\n",
    "\n",
    "import torchvision\n",
    "import matplotlib.pyplot as plt\n",
    "from time import time\n",
    "from torchvision import datasets, transforms\n",
    "from torch import nn, optim"
   ]
  },
  {
   "cell_type": "code",
   "execution_count": null,
   "metadata": {},
   "outputs": [],
   "source": []
  },
  {
   "cell_type": "code",
   "execution_count": 34,
   "metadata": {},
   "outputs": [],
   "source": [
    "class MNIST_Classifier:\n",
    "    \n",
    "    def __init__(self):\n",
    "        self.model = None\n",
    "        self.optimizer = None\n",
    "    \n",
    "    def from_file(self, filename):\n",
    "        self.model = torch.load(filename)\n",
    "        self.optimizer = optim.Adam(model.parameters())\n",
    "        \n",
    "    def to_file(self, filename):\n",
    "        torch.save(self.model, filename) \n",
    "    \n",
    "    def initialize(self):\n",
    "        self.model = nn.Sequential(\n",
    "                        nn.Linear(28 * 28, 128),\n",
    "                        nn.ReLU(),\n",
    "                        nn.Linear(128, 96),\n",
    "                        nn.ReLU(),\n",
    "                        nn.Linear(96, 32),\n",
    "                        nn.ReLU(),\n",
    "                        nn.Linear(32, 10),\n",
    "                        nn.LogSoftmax(dim=0))\n",
    "        \n",
    "        self.optimizer = optim.Adam(self.model.parameters())\n",
    "        \n",
    "    def train(self):\n",
    "        transform = transforms.Compose([transforms.ToTensor(), transforms.Normalize((0.5,), (0.5,))])\n",
    "        \n",
    "        trainset = datasets.MNIST('data/MNIST/trainset', download=True, train=True, transform=transform)\n",
    "        testset = datasets.MNIST('data/MNIST/testset', download=True, train=False, transform=transform)\n",
    "        \n",
    "        trainloader = torch.utils.data.DataLoader(trainset, batch_size=64, shuffle=True)\n",
    "        testloader  = torch.utils.data.DataLoader(testset,  batch_size=64, shuffle=True)\n",
    "        \n",
    "        epochs = 20\n",
    "        criterion = nn.NLLLoss()\n",
    "        \n",
    "        for ep in range(epochs):\n",
    "            loss_total = 0\n",
    "            for images, labels in trainloader:\n",
    "\n",
    "                images = images.view(images.shape[0], -1)\n",
    "                self.optimizer.zero_grad()\n",
    "                output = self.model(images)\n",
    "                loss = criterion(output, labels)\n",
    "                loss.backward()\n",
    "                self.optimizer.step()\n",
    "\n",
    "                loss_total += loss.item()\n",
    "                \n",
    "            print(\"Epoch {}, Loss: {}\".format(ep, loss_total/len(trainloader)))\n",
    "                \n",
    "            if ep % 5 == 0:\n",
    "                TP = 0\n",
    "                TOTAL = 0\n",
    "                for images, labels in testloader:\n",
    "                    images = images.view(images.shape[0], -1)\n",
    "                    TOTAL += len(labels)\n",
    "                    for i in range(len(labels)):\n",
    "                        TP += self.predict(images[i]) == labels[i]\n",
    "                        \n",
    "                print(\"Validation: {}/{} ({}%)\".format(TP, TOTAL, TP*100/TOTAL))\n",
    "    \n",
    "    def predict(self, image):\n",
    "        with torch.no_grad():\n",
    "            logps = self.model(image)\n",
    "\n",
    "        ps = torch.exp(logps)\n",
    "        probab = list(ps.numpy())\n",
    "        return np.argmax(probab)"
   ]
  },
  {
   "cell_type": "code",
   "execution_count": null,
   "metadata": {},
   "outputs": [],
   "source": []
  },
  {
   "cell_type": "code",
   "execution_count": 35,
   "metadata": {},
   "outputs": [
    {
     "name": "stdout",
     "output_type": "stream",
     "text": [
      "Epoch 0, Loss: 2.353235550018262\n",
      "Validation: 6811/10000 (68%)\n",
      "Epoch 1, Loss: 2.13452857821735\n",
      "Epoch 2, Loss: 2.0763728391132883\n",
      "Epoch 3, Loss: 2.046477670608553\n",
      "Epoch 4, Loss: 2.028562980165868\n",
      "Epoch 5, Loss: 2.0190116146734276\n",
      "Validation: 9728/10000 (97%)\n",
      "Epoch 6, Loss: 2.007737347947509\n",
      "Epoch 7, Loss: 2.0009683070660653\n",
      "Epoch 8, Loss: 1.9934106006551144\n",
      "Epoch 9, Loss: 1.9900205156950554\n",
      "Epoch 10, Loss: 1.9821983338164877\n",
      "Validation: 9755/10000 (97%)\n",
      "Epoch 11, Loss: 1.9798042114609595\n",
      "Epoch 12, Loss: 1.973317506470914\n",
      "Epoch 13, Loss: 1.9727705574747343\n",
      "Epoch 14, Loss: 1.9704372717627585\n",
      "Epoch 15, Loss: 1.9674350196110415\n",
      "Validation: 9731/10000 (97%)\n",
      "Epoch 16, Loss: 1.9678448980042675\n",
      "Epoch 17, Loss: 1.9661459100526024\n",
      "Epoch 18, Loss: 1.961413344340538\n",
      "Epoch 19, Loss: 1.959915121226931\n"
     ]
    }
   ],
   "source": [
    "clf = MNIST_Classifier()\n",
    "clf.initialize()\n",
    "clf.train()"
   ]
  },
  {
   "cell_type": "code",
   "execution_count": 36,
   "metadata": {},
   "outputs": [
    {
     "name": "stderr",
     "output_type": "stream",
     "text": [
      "/home/stwasik/.local/lib/python3.6/site-packages/torch/serialization.py:292: UserWarning: Couldn't retrieve source code for container of type Sequential. It won't be checked for correctness upon loading.\n",
      "  \"type \" + obj.__name__ + \". It won't be checked \"\n",
      "/home/stwasik/.local/lib/python3.6/site-packages/torch/serialization.py:292: UserWarning: Couldn't retrieve source code for container of type Linear. It won't be checked for correctness upon loading.\n",
      "  \"type \" + obj.__name__ + \". It won't be checked \"\n",
      "/home/stwasik/.local/lib/python3.6/site-packages/torch/serialization.py:292: UserWarning: Couldn't retrieve source code for container of type ReLU. It won't be checked for correctness upon loading.\n",
      "  \"type \" + obj.__name__ + \". It won't be checked \"\n",
      "/home/stwasik/.local/lib/python3.6/site-packages/torch/serialization.py:292: UserWarning: Couldn't retrieve source code for container of type LogSoftmax. It won't be checked for correctness upon loading.\n",
      "  \"type \" + obj.__name__ + \". It won't be checked \"\n"
     ]
    }
   ],
   "source": [
    "clf.to_file('model/mnist_model.pt')"
   ]
  },
  {
   "cell_type": "code",
   "execution_count": null,
   "metadata": {},
   "outputs": [],
   "source": []
  }
 ],
 "metadata": {
  "kernelspec": {
   "display_name": "Python 3",
   "language": "python",
   "name": "python3"
  },
  "language_info": {
   "codemirror_mode": {
    "name": "ipython",
    "version": 3
   },
   "file_extension": ".py",
   "mimetype": "text/x-python",
   "name": "python",
   "nbconvert_exporter": "python",
   "pygments_lexer": "ipython3",
   "version": "3.6.9"
  }
 },
 "nbformat": 4,
 "nbformat_minor": 2
}
